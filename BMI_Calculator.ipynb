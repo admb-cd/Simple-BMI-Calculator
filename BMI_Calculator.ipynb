{
  "nbformat": 4,
  "nbformat_minor": 0,
  "metadata": {
    "colab": {
      "provenance": []
    },
    "kernelspec": {
      "name": "python3",
      "display_name": "Python 3"
    },
    "language_info": {
      "name": "python"
    }
  },
  "cells": [
    {
      "cell_type": "markdown",
      "source": [
        "BMI = (weight in pounds x 703) / (height in inches x height in inches)"
      ],
      "metadata": {
        "id": "WqOoMtSRDxna"
      }
    },
    {
      "cell_type": "code",
      "source": [
        "name = input(\"Enter your name:\")\n",
        "\n",
        "weight = int(input(\"Enter your weight in pounds:\"))\n",
        "\n",
        "height = int(input(\"Enter your height in inches:\"))\n",
        "\n",
        "BMI = (weight * 703) / (height * height)\n",
        "\n",
        "print(BMI)\n",
        "\n",
        "\n",
        "if BMI > 0:\n",
        "  if(BMI<18.5):\n",
        "    print(name + \", You are underweight.\")\n",
        "  elif(BMI<=24.9):\n",
        "    print(name + \", You are normal weight.\")\n",
        "  elif(BMI<=29.9):\n",
        "    print(name + \", You are overweight.\")\n",
        "  elif(BMI<=34.9):\n",
        "    print(name + \", You are obese.\")\n",
        "  elif(BMI<=39.9):\n",
        "    print(name + \", You are severely obese.\")\n",
        "  else:\n",
        "    print(name + \", You are morbidly obese.\")\n",
        "else:\n",
        "  print(\"Enter valid input\")"
      ],
      "metadata": {
        "colab": {
          "base_uri": "https://localhost:8080/"
        },
        "id": "nbsRMBcwFXvD",
        "outputId": "a5904952-d6c8-48af-f968-0b4fcdd73b3b"
      },
      "execution_count": null,
      "outputs": [
        {
          "output_type": "stream",
          "name": "stdout",
          "text": [
            "Enter your name:Dumebi\n",
            "Enter your weight in pounds:150\n",
            "Enter your height in inches:69\n",
            "22.14870825456837\n",
            "Dumebi, You are normal weight.\n"
          ]
        }
      ]
    },
    {
      "cell_type": "code",
      "source": [],
      "metadata": {
        "id": "33MMSGvnFYfk"
      },
      "execution_count": null,
      "outputs": []
    },
    {
      "cell_type": "code",
      "source": [],
      "metadata": {
        "id": "IaxoLRJhESGy"
      },
      "execution_count": null,
      "outputs": []
    }
  ]
}