{
  "nbformat": 4,
  "nbformat_minor": 0,
  "metadata": {
    "colab": {
      "provenance": [],
      "authorship_tag": "ABX9TyMC2Hy4pEnaX/seQIucx9Jz",
      "include_colab_link": true
    },
    "kernelspec": {
      "name": "python3",
      "display_name": "Python 3"
    },
    "language_info": {
      "name": "python"
    }
  },
  "cells": [
    {
      "cell_type": "markdown",
      "metadata": {
        "id": "view-in-github",
        "colab_type": "text"
      },
      "source": [
        "<a href=\"https://colab.research.google.com/github/admb-cd/Simple-BMI-Calculator/blob/main/BMI_Calculator.ipynb\" target=\"_parent\"><img src=\"https://colab.research.google.com/assets/colab-badge.svg\" alt=\"Open In Colab\"/></a>"
      ]
    },
    {
      "cell_type": "code",
      "source": [
        "name = input(\"Enter your name:\")\n",
        "weight = int(input(\"Enter your weight in kilogram:\"))\n",
        "height = float(input(\"Enter your height in metres:\"))\n",
        "BMI = (weight) / (height * height)\n",
        "print(f\"{BMI:.1f}\")   #using f-string\n",
        "\n",
        "if BMI > 0:\n",
        "  if(BMI<18.5):\n",
        "    print(name + \", You are underweight.\")\n",
        "  elif(BMI<=24.9):\n",
        "    print(name + \", You are normal weight.\")\n",
        "  elif(BMI<=29.9):\n",
        "    print(name + \", You are overweight.\")\n",
        "  elif(BMI<=34.9):\n",
        "    print(name + \", You are obese.\")\n",
        "  elif(BMI<=39.9):\n",
        "    print(name + \", You are obese.\")\n",
        "  else:\n",
        "    print(name + \", You are obese.\")\n",
        "else:\n",
        "  print(\"Enter valid input\")"
      ],
      "metadata": {
        "id": "nbsRMBcwFXvD",
        "colab": {
          "base_uri": "https://localhost:8080/"
        },
        "outputId": "5072bf7a-96fa-4d81-b27b-3339fcb196f7"
      },
      "execution_count": null,
      "outputs": [
        {
          "output_type": "stream",
          "name": "stdout",
          "text": [
            "Enter your name:Matilda\n",
            "Enter your weight in kilogram:80\n",
            "Enter your height in metres:1.85\n",
            "23.4\n",
            "Matilda, You are normal weight.\n"
          ]
        }
      ]
    },
    {
      "cell_type": "code",
      "source": [],
      "metadata": {
        "id": "33MMSGvnFYfk"
      },
      "execution_count": null,
      "outputs": []
    },
    {
      "cell_type": "code",
      "source": [],
      "metadata": {
        "id": "IaxoLRJhESGy"
      },
      "execution_count": null,
      "outputs": []
    }
  ]
}